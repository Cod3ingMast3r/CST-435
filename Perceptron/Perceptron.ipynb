{
 "cells": [
  {
   "cell_type": "markdown",
   "metadata": {},
   "source": [
    "# Perceptrion\n",
    "By: Matthew Powers and Parker Spaan and Alex Peltier"
   ]
  },
  {
   "cell_type": "markdown",
   "metadata": {},
   "source": [
    "# Problem Statement\n",
    "The objective of this assignment is to build a simple perceptron model to find the optimal placement for a piece of furniture in a room. The placement of furniture can be a complex decision-making process that involves various factors such as available space, proximity to other furniture, and aesthetic considerations. We aim to simplify this process by using a perceptron algorithm to determine the best location for a piece of furniture based on a set of metrics."
   ]
  },
  {
   "cell_type": "markdown",
   "metadata": {},
   "source": [
    "# Algorithm of the Solution\n",
    "\n",
    "## Metrics Involved\n",
    "\n",
    "To map the problem space of locating furniture in a room to the perceptron algorithm, we need to identify the metrics that will serve as the input variables x1, x2,...,xn.\n",
    "These could be:\n",
    "\n",
    "1. Distance from the nearest wall (x1)\n",
    "2. Distance from the nearest piece of furniture (x2)\n",
    "3. Proximity to a power outlet (x3)\n",
    "4. Amount of natural light at the location (x4)\n",
    "5. Proximity to the room's entrance (x5)\n",
    "\n",
    "The ground truth for each input/output pair could be a binary value indicating whether the placement is optimal (1) or not optimal (-1)."
   ]
  },
  {
   "cell_type": "markdown",
   "metadata": {},
   "source": [
    "## Mapping the Perceptron Algorithm"
   ]
  },
  {
   "cell_type": "markdown",
   "metadata": {},
   "source": [
    "### Step 1: Randomly Initialize the Weights And Bias\n",
    "Initialize the weights w1, w2,...,wn randomly.\n",
    "Initialize b randomly\n"
   ]
  },
  {
   "cell_type": "markdown",
   "metadata": {},
   "source": [
    "### Step 2: Select One Input/Output Pair at Random\n",
    "Randomly select one set of metrics and its corresponding ground truth."
   ]
  },
  {
   "cell_type": "markdown",
   "metadata": {},
   "source": [
    "### Step 3: Compute the Output y\n",
    "Compute the output y using the perceptron formula.\n",
    "\n",
    "![Alt text](image.png)"
   ]
  },
  {
   "cell_type": "markdown",
   "metadata": {},
   "source": [
    "### Step 4: Adjust the Weights and Bias\n",
    "If y is different from the ground truth, adjust the weights and bias."
   ]
  },
  {
   "cell_type": "markdown",
   "metadata": {},
   "source": [
    "### Step 5: Repeat\n",
    "Repeat steps 2, 3, and 4 until the perceptron predicts all examples correctly."
   ]
  },
  {
   "cell_type": "code",
   "execution_count": 550,
   "metadata": {},
   "outputs": [
    {
     "name": "stdout",
     "output_type": "stream",
     "text": [
      "Training finished after 100000 epochs\n",
      "Recommended weights:  [-2.16814969  7.56803456 -1.17843162 -1.28351633  9.87423807]\n",
      "Bias term:  -251.5773821038439\n",
      "Accuracy:  0.7\n",
      "Input: [20 17 24 26 21], Prediction: -1.0, Label: -1\n",
      "Input: [11 25  4 27 12], Prediction: -1.0, Label: 1\n",
      "Input: [ 5 15  6  0 13], Prediction: -1.0, Label: 1\n",
      "Input: [ 1 29  9  4  9], Prediction: 1.0, Label: 1\n",
      "Input: [29 20 15 24 23], Prediction: 1.0, Label: 1\n",
      "Input: [20 29  5  0  4], Prediction: -1.0, Label: -1\n",
      "Input: [ 6  6  9  4 16], Prediction: -1.0, Label: -1\n",
      "Input: [ 7 24 15  8 10], Prediction: -1.0, Label: -1\n",
      "Input: [18 17 28 14 14], Prediction: -1.0, Label: 1\n",
      "Input: [ 9  6  8 24 25], Prediction: -1.0, Label: -1\n"
     ]
    }
   ],
   "source": [
    "import numpy as np\n",
    "\n",
    "# Define the perceptron learning algorithm\n",
    "def perceptron_learning_algorithm(X, y, learning_rate=0.1, max_epochs=1000):\n",
    "    n_samples, n_features = X.shape\n",
    "    # Step 1\n",
    "    w = np.random.rand(n_features)  # Randomly Initialize weights\n",
    "    b = np.random.rand()  # Randomly Initialize bias\n",
    "\n",
    "    # Step 5\n",
    "    # Loop through epochs (training iterations)\n",
    "    for epoch in range(max_epochs):\n",
    "        misclassified = 0  # Counter for misclassified samples in this epoch\n",
    "\n",
    "        # Loop through the training samples\n",
    "        # Shuffle the indices of the training samples randomly\n",
    "        shuffled_indices = np.random.permutation(n_samples)\n",
    "        for i in shuffled_indices:\n",
    "            # Step 2\n",
    "            x_i = X[i]  # Get the feature vector of the current sample\n",
    "            y_i = y[i]  # Get the true label of the current sample\n",
    "            \n",
    "            # Step 3\n",
    "            # Compute the prediction (linear combination of weights and features, plus bias)\n",
    "            y_pred = np.dot(w, x_i) + b\n",
    "\n",
    "            # Step 4\n",
    "            # Update weights and bias if the prediction is incorrect\n",
    "            if np.sign(y_pred) != np.sign(y_i):\n",
    "                w += learning_rate * y_i * x_i  # Update weights\n",
    "                b += learning_rate * y_i  # Update bias\n",
    "                misclassified += 1  # Increment the misclassified counter\n",
    "\n",
    "        # Check for convergence (no misclassified samples in this epoch)\n",
    "        if misclassified == 0:\n",
    "            break  # Convergence criterion: Stop training if there are no misclassified samples\n",
    "    print(f\"Training finished after {epoch+1} epochs\")\n",
    "    return w, b  # Return the learned weights and bias, and the number of epochs trained for\n",
    "\n",
    "# Example usage\n",
    "if __name__ == \"__main__\":\n",
    "    n_samples = 10\n",
    "    X = np.random.randint(0, 30, size=(n_samples, 5))  # Generate random input data\n",
    "    y = np.random.choice([-1, 1], size=n_samples)  # Generate random ground truth labels\n",
    "\n",
    "    w, b = perceptron_learning_algorithm(X, y, learning_rate=0.1, max_epochs=100000)  # Train the perceptron\n",
    "    print(\"Recommended weights: \", w)  # Print the learned weights\n",
    "    print(\"Bias term: \", b)  # Print the learned bias term\n",
    "    accuracy = np.sum(y == np.sign(np.dot(X, w) + b)) / len(X)  # Compute accuracy on the training data\n",
    "    print(\"Accuracy: \", accuracy)  # Print the accuracy\n",
    "\n",
    "    # Loop through the training data to make predictions and compare with ground truth labels\n",
    "    for i in range(len(X)):\n",
    "        y_pred = np.sign(np.dot(X[i], w) + b)  # Make a prediction for the current sample\n",
    "        print(f\"Input: {X[i]}, Prediction: {y_pred}, Label: {y[i]}\")  # Print the input, prediction, and label\n"
   ]
  }
 ],
 "metadata": {
  "kernelspec": {
   "display_name": "Python 3",
   "language": "python",
   "name": "python3"
  },
  "language_info": {
   "name": "python",
   "version": "3.10.7"
  },
  "orig_nbformat": 4
 },
 "nbformat": 4,
 "nbformat_minor": 2
}
