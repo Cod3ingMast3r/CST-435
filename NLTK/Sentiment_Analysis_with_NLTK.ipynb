{
  "cells": [
    {
      "cell_type": "code",
      "execution_count": 55,
      "id": "ff840271-27cc-442c-94c1-d45ed52518e3",
      "metadata": {
        "ExecuteTime": {
          "end_time": "2023-10-19T22:18:09.235804+00:00",
          "start_time": "2023-10-19T22:18:07.458790+00:00"
        },
        "datalink": {
          "07aced74-874e-4237-8ef6-a82b73800839": {
            "applied_filters": [],
            "dataframe_info": {
              "default_index_used": true,
              "orig_num_cols": 2,
              "orig_num_rows": 5,
              "orig_size_bytes": 120,
              "truncated_num_cols": 2,
              "truncated_num_rows": 5,
              "truncated_size_bytes": 120,
              "truncated_string_columns": [
                "review"
              ]
            },
            "display_id": "07aced74-874e-4237-8ef6-a82b73800839",
            "dx_settings": {
              "ALLOW_NOTEABLE_ATTRS": true,
              "COLUMN_SAMPLING_METHOD": "outer",
              "DB_LOCATION": ":memory:",
              "DEV_MODE": false,
              "DISPLAY_MAX_COLUMNS": 100,
              "DISPLAY_MAX_ROWS": 50000,
              "DISPLAY_MODE": "simple",
              "ENABLE_ASSIGNMENT": true,
              "ENABLE_DATALINK": true,
              "FLATTEN_COLUMN_VALUES": true,
              "FLATTEN_INDEX_VALUES": false,
              "GENERATE_DEX_METADATA": false,
              "HTML_TABLE_SCHEMA": false,
              "LOG_LEVEL": 30,
              "MAX_RENDER_SIZE_BYTES": 104857600,
              "MAX_STRING_LENGTH": 250,
              "NUM_PAST_SAMPLES_TRACKED": 3,
              "RANDOM_STATE": 12648430,
              "RESET_INDEX_VALUES": false,
              "ROW_SAMPLING_METHOD": "random",
              "SAMPLING_FACTOR": 0.1,
              "SAMPLING_METHOD": "random",
              "STRINGIFY_COLUMN_VALUES": true,
              "STRINGIFY_INDEX_VALUES": false
            },
            "sample_history": [],
            "sampling_time": "2023-10-19T22:18:09.076950",
            "user_variable_name": null,
            "variable_name": "unk_dataframe_029b1acd5943428b859148c9e0c3b8a8"
          },
          "4ff52a6a-30bd-48b9-bcef-edc74f52cc07": {
            "applied_filters": [],
            "dataframe_info": {
              "default_index_used": true,
              "orig_num_cols": 2,
              "orig_num_rows": 5,
              "orig_size_bytes": 120,
              "truncated_num_cols": 2,
              "truncated_num_rows": 5,
              "truncated_size_bytes": 120,
              "truncated_string_columns": [
                "review"
              ]
            },
            "display_id": "4ff52a6a-30bd-48b9-bcef-edc74f52cc07",
            "dx_settings": {
              "ALLOW_NOTEABLE_ATTRS": true,
              "COLUMN_SAMPLING_METHOD": "outer",
              "DB_LOCATION": ":memory:",
              "DEV_MODE": false,
              "DISPLAY_MAX_COLUMNS": 100,
              "DISPLAY_MAX_ROWS": 50000,
              "DISPLAY_MODE": "simple",
              "ENABLE_ASSIGNMENT": true,
              "ENABLE_DATALINK": true,
              "FLATTEN_COLUMN_VALUES": true,
              "FLATTEN_INDEX_VALUES": false,
              "GENERATE_DEX_METADATA": false,
              "HTML_TABLE_SCHEMA": false,
              "LOG_LEVEL": 30,
              "MAX_RENDER_SIZE_BYTES": 104857600,
              "MAX_STRING_LENGTH": 250,
              "NUM_PAST_SAMPLES_TRACKED": 3,
              "RANDOM_STATE": 12648430,
              "RESET_INDEX_VALUES": false,
              "ROW_SAMPLING_METHOD": "random",
              "SAMPLING_FACTOR": 0.1,
              "SAMPLING_METHOD": "random",
              "STRINGIFY_COLUMN_VALUES": true,
              "STRINGIFY_INDEX_VALUES": false
            },
            "sample_history": [],
            "sampling_time": "2023-10-19T22:15:54.655266",
            "user_variable_name": null,
            "variable_name": "unk_dataframe_6f800d5c8d714117b34eacf2a411d31b"
          },
          "a7855413-668d-4139-b1a9-aab791c26e07": {
            "applied_filters": [],
            "dataframe_info": {
              "default_index_used": true,
              "orig_num_cols": 2,
              "orig_num_rows": 5,
              "orig_size_bytes": 120,
              "truncated_num_cols": 2,
              "truncated_num_rows": 5,
              "truncated_size_bytes": 120,
              "truncated_string_columns": [
                "review"
              ]
            },
            "display_id": "a7855413-668d-4139-b1a9-aab791c26e07",
            "dx_settings": {
              "ALLOW_NOTEABLE_ATTRS": true,
              "COLUMN_SAMPLING_METHOD": "outer",
              "DB_LOCATION": ":memory:",
              "DEV_MODE": false,
              "DISPLAY_MAX_COLUMNS": 100,
              "DISPLAY_MAX_ROWS": 50000,
              "DISPLAY_MODE": "simple",
              "ENABLE_ASSIGNMENT": true,
              "ENABLE_DATALINK": true,
              "FLATTEN_COLUMN_VALUES": true,
              "FLATTEN_INDEX_VALUES": false,
              "GENERATE_DEX_METADATA": false,
              "HTML_TABLE_SCHEMA": false,
              "LOG_LEVEL": 30,
              "MAX_RENDER_SIZE_BYTES": 104857600,
              "MAX_STRING_LENGTH": 250,
              "NUM_PAST_SAMPLES_TRACKED": 3,
              "RANDOM_STATE": 12648430,
              "RESET_INDEX_VALUES": false,
              "ROW_SAMPLING_METHOD": "random",
              "SAMPLING_FACTOR": 0.1,
              "SAMPLING_METHOD": "random",
              "STRINGIFY_COLUMN_VALUES": true,
              "STRINGIFY_INDEX_VALUES": false
            },
            "sample_history": [],
            "sampling_time": "2023-10-19T22:11:10.338063",
            "user_variable_name": null,
            "variable_name": "unk_dataframe_edcb9ef0b1554157b927f2f87d2c90d8"
          },
          "b394572d-dca7-472a-9c0d-1cb475ccc045": {
            "applied_filters": [],
            "dataframe_info": {
              "default_index_used": true,
              "orig_num_cols": 2,
              "orig_num_rows": 5,
              "orig_size_bytes": 120,
              "truncated_num_cols": 2,
              "truncated_num_rows": 5,
              "truncated_size_bytes": 120,
              "truncated_string_columns": [
                "review"
              ]
            },
            "display_id": "b394572d-dca7-472a-9c0d-1cb475ccc045",
            "dx_settings": {
              "ALLOW_NOTEABLE_ATTRS": true,
              "COLUMN_SAMPLING_METHOD": "outer",
              "DB_LOCATION": ":memory:",
              "DEV_MODE": false,
              "DISPLAY_MAX_COLUMNS": 100,
              "DISPLAY_MAX_ROWS": 50000,
              "DISPLAY_MODE": "simple",
              "ENABLE_ASSIGNMENT": true,
              "ENABLE_DATALINK": true,
              "FLATTEN_COLUMN_VALUES": true,
              "FLATTEN_INDEX_VALUES": false,
              "GENERATE_DEX_METADATA": false,
              "HTML_TABLE_SCHEMA": false,
              "LOG_LEVEL": 30,
              "MAX_RENDER_SIZE_BYTES": 104857600,
              "MAX_STRING_LENGTH": 250,
              "NUM_PAST_SAMPLES_TRACKED": 3,
              "RANDOM_STATE": 12648430,
              "RESET_INDEX_VALUES": false,
              "ROW_SAMPLING_METHOD": "random",
              "SAMPLING_FACTOR": 0.1,
              "SAMPLING_METHOD": "random",
              "STRINGIFY_COLUMN_VALUES": true,
              "STRINGIFY_INDEX_VALUES": false
            },
            "sample_history": [],
            "sampling_time": "2023-10-19T22:02:06.832059",
            "user_variable_name": null,
            "variable_name": "unk_dataframe_c1b4e96f031749e5945780ca374330fc"
          },
          "d0964f4d-b5c3-48bb-9b6d-efd94b99af79": {
            "applied_filters": [],
            "dataframe_info": {
              "default_index_used": true,
              "orig_num_cols": 2,
              "orig_num_rows": 5,
              "orig_size_bytes": 120,
              "truncated_num_cols": 2,
              "truncated_num_rows": 5,
              "truncated_size_bytes": 120,
              "truncated_string_columns": [
                "review"
              ]
            },
            "display_id": "d0964f4d-b5c3-48bb-9b6d-efd94b99af79",
            "dx_settings": {
              "ALLOW_NOTEABLE_ATTRS": true,
              "COLUMN_SAMPLING_METHOD": "outer",
              "DB_LOCATION": ":memory:",
              "DEV_MODE": false,
              "DISPLAY_MAX_COLUMNS": 100,
              "DISPLAY_MAX_ROWS": 50000,
              "DISPLAY_MODE": "simple",
              "ENABLE_ASSIGNMENT": true,
              "ENABLE_DATALINK": true,
              "FLATTEN_COLUMN_VALUES": true,
              "FLATTEN_INDEX_VALUES": false,
              "GENERATE_DEX_METADATA": false,
              "HTML_TABLE_SCHEMA": false,
              "LOG_LEVEL": 30,
              "MAX_RENDER_SIZE_BYTES": 104857600,
              "MAX_STRING_LENGTH": 250,
              "NUM_PAST_SAMPLES_TRACKED": 3,
              "RANDOM_STATE": 12648430,
              "RESET_INDEX_VALUES": false,
              "ROW_SAMPLING_METHOD": "random",
              "SAMPLING_FACTOR": 0.1,
              "SAMPLING_METHOD": "random",
              "STRINGIFY_COLUMN_VALUES": true,
              "STRINGIFY_INDEX_VALUES": false
            },
            "sample_history": [],
            "sampling_time": "2023-10-19T22:04:37.536041",
            "user_variable_name": null,
            "variable_name": "unk_dataframe_75eff3b6a3ec4d378ad75a9ee90dee87"
          }
        },
        "noteable": {
          "cell_type": "code",
          "output_collection_id": "7cf09cc1-9d99-4efb-b55e-fd9167ecb389"
        }
      },
      "outputs": [
        {
          "name": "stderr",
          "output_type": "stream",
          "text": [
            "[nltk_data] Downloading package movie_reviews to\n",
            "[nltk_data]     C:\\Users\\matth\\AppData\\Roaming\\nltk_data...\n",
            "[nltk_data]   Package movie_reviews is already up-to-date!\n",
            "[nltk_data] Downloading package stopwords to\n",
            "[nltk_data]     C:\\Users\\matth\\AppData\\Roaming\\nltk_data...\n",
            "[nltk_data]   Package stopwords is already up-to-date!\n"
          ]
        },
        {
          "data": {
            "text/html": [
              "<div>\n",
              "<style scoped>\n",
              "    .dataframe tbody tr th:only-of-type {\n",
              "        vertical-align: middle;\n",
              "    }\n",
              "\n",
              "    .dataframe tbody tr th {\n",
              "        vertical-align: top;\n",
              "    }\n",
              "\n",
              "    .dataframe thead th {\n",
              "        text-align: right;\n",
              "    }\n",
              "</style>\n",
              "<table border=\"1\" class=\"dataframe\">\n",
              "  <thead>\n",
              "    <tr style=\"text-align: right;\">\n",
              "      <th></th>\n",
              "      <th>review</th>\n",
              "      <th>sentiment</th>\n",
              "    </tr>\n",
              "  </thead>\n",
              "  <tbody>\n",
              "    <tr>\n",
              "      <th>0</th>\n",
              "      <td>plot : two teen couples go to a church party ,...</td>\n",
              "      <td>neg</td>\n",
              "    </tr>\n",
              "    <tr>\n",
              "      <th>1</th>\n",
              "      <td>the happy bastard ' s quick movie review damn ...</td>\n",
              "      <td>neg</td>\n",
              "    </tr>\n",
              "    <tr>\n",
              "      <th>2</th>\n",
              "      <td>it is movies like these that make a jaded movi...</td>\n",
              "      <td>neg</td>\n",
              "    </tr>\n",
              "    <tr>\n",
              "      <th>3</th>\n",
              "      <td>\" quest for camelot \" is warner bros . ' first...</td>\n",
              "      <td>neg</td>\n",
              "    </tr>\n",
              "    <tr>\n",
              "      <th>4</th>\n",
              "      <td>synopsis : a mentally unstable man undergoing ...</td>\n",
              "      <td>neg</td>\n",
              "    </tr>\n",
              "  </tbody>\n",
              "</table>\n",
              "</div>"
            ],
            "text/plain": [
              "                                              review sentiment\n",
              "0  plot : two teen couples go to a church party ,...       neg\n",
              "1  the happy bastard ' s quick movie review damn ...       neg\n",
              "2  it is movies like these that make a jaded movi...       neg\n",
              "3  \" quest for camelot \" is warner bros . ' first...       neg\n",
              "4  synopsis : a mentally unstable man undergoing ...       neg"
            ]
          },
          "execution_count": 55,
          "metadata": {},
          "output_type": "execute_result"
        }
      ],
      "source": [
        "import nltk\n",
        "import pandas as pd\n",
        "import matplotlib.pyplot as plt\n",
        "import seaborn as sns\n",
        "from nltk.corpus import movie_reviews, stopwords\n",
        "\n",
        "# Downloading the movie_reviews dataset and stopwords from NLTK\n",
        "nltk.download('movie_reviews')\n",
        "nltk.download('stopwords')\n",
        "\n",
        "# Preparing the dataset\n",
        "documents = [(list(movie_reviews.words(fileid)), category)\n",
        "             for category in movie_reviews.categories()\n",
        "             for fileid in movie_reviews.fileids(category)]\n",
        "\n",
        "# Converting the list of words to a single string for each review\n",
        "reviews = [' '.join(words) for words, sentiment in documents]\n",
        "sentiments = [sentiment for words, sentiment in documents]\n",
        "\n",
        "# Creating a DataFrame\n",
        "data = pd.DataFrame({'review': reviews, 'sentiment': sentiments})\n",
        "data.head()"
      ]
    },
    {
      "cell_type": "code",
      "execution_count": 56,
      "id": "8e184da7-e639-488c-8540-05e7ac818cbc",
      "metadata": {
        "ExecuteTime": {
          "end_time": "2023-10-19T22:18:10.157685+00:00",
          "start_time": "2023-10-19T22:18:09.241298+00:00"
        },
        "datalink": {
          "27b8ba29-8b81-4fd3-8bbf-a22847a46b11": {
            "applied_filters": [],
            "dataframe_info": {
              "default_index_used": true,
              "orig_num_cols": 2,
              "orig_num_rows": 5,
              "orig_size_bytes": 120,
              "truncated_num_cols": 2,
              "truncated_num_rows": 5,
              "truncated_size_bytes": 120,
              "truncated_string_columns": [
                "review",
                "processed_review"
              ]
            },
            "display_id": "27b8ba29-8b81-4fd3-8bbf-a22847a46b11",
            "dx_settings": {
              "ALLOW_NOTEABLE_ATTRS": true,
              "COLUMN_SAMPLING_METHOD": "outer",
              "DB_LOCATION": ":memory:",
              "DEV_MODE": false,
              "DISPLAY_MAX_COLUMNS": 100,
              "DISPLAY_MAX_ROWS": 50000,
              "DISPLAY_MODE": "simple",
              "ENABLE_ASSIGNMENT": true,
              "ENABLE_DATALINK": true,
              "FLATTEN_COLUMN_VALUES": true,
              "FLATTEN_INDEX_VALUES": false,
              "GENERATE_DEX_METADATA": false,
              "HTML_TABLE_SCHEMA": false,
              "LOG_LEVEL": 30,
              "MAX_RENDER_SIZE_BYTES": 104857600,
              "MAX_STRING_LENGTH": 250,
              "NUM_PAST_SAMPLES_TRACKED": 3,
              "RANDOM_STATE": 12648430,
              "RESET_INDEX_VALUES": false,
              "ROW_SAMPLING_METHOD": "random",
              "SAMPLING_FACTOR": 0.1,
              "SAMPLING_METHOD": "random",
              "STRINGIFY_COLUMN_VALUES": true,
              "STRINGIFY_INDEX_VALUES": false
            },
            "sample_history": [],
            "sampling_time": "2023-10-19T22:18:09.999069",
            "user_variable_name": null,
            "variable_name": "unk_dataframe_52b74d1db01c4f73969516b65b6628a3"
          },
          "4cd4f338-c1d8-4b75-9d3c-1ddcf17feb0d": {
            "applied_filters": [],
            "dataframe_info": {
              "default_index_used": true,
              "orig_num_cols": 2,
              "orig_num_rows": 5,
              "orig_size_bytes": 120,
              "truncated_num_cols": 2,
              "truncated_num_rows": 5,
              "truncated_size_bytes": 120,
              "truncated_string_columns": [
                "review",
                "processed_review"
              ]
            },
            "display_id": "4cd4f338-c1d8-4b75-9d3c-1ddcf17feb0d",
            "dx_settings": {
              "ALLOW_NOTEABLE_ATTRS": true,
              "COLUMN_SAMPLING_METHOD": "outer",
              "DB_LOCATION": ":memory:",
              "DEV_MODE": false,
              "DISPLAY_MAX_COLUMNS": 100,
              "DISPLAY_MAX_ROWS": 50000,
              "DISPLAY_MODE": "simple",
              "ENABLE_ASSIGNMENT": true,
              "ENABLE_DATALINK": true,
              "FLATTEN_COLUMN_VALUES": true,
              "FLATTEN_INDEX_VALUES": false,
              "GENERATE_DEX_METADATA": false,
              "HTML_TABLE_SCHEMA": false,
              "LOG_LEVEL": 30,
              "MAX_RENDER_SIZE_BYTES": 104857600,
              "MAX_STRING_LENGTH": 250,
              "NUM_PAST_SAMPLES_TRACKED": 3,
              "RANDOM_STATE": 12648430,
              "RESET_INDEX_VALUES": false,
              "ROW_SAMPLING_METHOD": "random",
              "SAMPLING_FACTOR": 0.1,
              "SAMPLING_METHOD": "random",
              "STRINGIFY_COLUMN_VALUES": true,
              "STRINGIFY_INDEX_VALUES": false
            },
            "sample_history": [],
            "sampling_time": "2023-10-19T22:15:55.697562",
            "user_variable_name": null,
            "variable_name": "unk_dataframe_f6574088d37d4aa09aa62a4afd8b36d4"
          },
          "5c85d6ff-fe94-4d6f-bd13-b932bb75b5ae": {
            "applied_filters": [],
            "dataframe_info": {
              "default_index_used": true,
              "orig_num_cols": 2,
              "orig_num_rows": 5,
              "orig_size_bytes": 120,
              "truncated_num_cols": 2,
              "truncated_num_rows": 5,
              "truncated_size_bytes": 120,
              "truncated_string_columns": [
                "review",
                "processed_review"
              ]
            },
            "display_id": "5c85d6ff-fe94-4d6f-bd13-b932bb75b5ae",
            "dx_settings": {
              "ALLOW_NOTEABLE_ATTRS": true,
              "COLUMN_SAMPLING_METHOD": "outer",
              "DB_LOCATION": ":memory:",
              "DEV_MODE": false,
              "DISPLAY_MAX_COLUMNS": 100,
              "DISPLAY_MAX_ROWS": 50000,
              "DISPLAY_MODE": "simple",
              "ENABLE_ASSIGNMENT": true,
              "ENABLE_DATALINK": true,
              "FLATTEN_COLUMN_VALUES": true,
              "FLATTEN_INDEX_VALUES": false,
              "GENERATE_DEX_METADATA": false,
              "HTML_TABLE_SCHEMA": false,
              "LOG_LEVEL": 30,
              "MAX_RENDER_SIZE_BYTES": 104857600,
              "MAX_STRING_LENGTH": 250,
              "NUM_PAST_SAMPLES_TRACKED": 3,
              "RANDOM_STATE": 12648430,
              "RESET_INDEX_VALUES": false,
              "ROW_SAMPLING_METHOD": "random",
              "SAMPLING_FACTOR": 0.1,
              "SAMPLING_METHOD": "random",
              "STRINGIFY_COLUMN_VALUES": true,
              "STRINGIFY_INDEX_VALUES": false
            },
            "sample_history": [],
            "sampling_time": "2023-10-19T22:11:11.341331",
            "user_variable_name": null,
            "variable_name": "unk_dataframe_8f2aaf7bf5284f9a86a3ae9fd7f87f00"
          },
          "a186d17d-727a-4b59-a22a-69cdee93c40b": {
            "applied_filters": [],
            "dataframe_info": {
              "default_index_used": true,
              "orig_num_cols": 2,
              "orig_num_rows": 5,
              "orig_size_bytes": 120,
              "truncated_num_cols": 2,
              "truncated_num_rows": 5,
              "truncated_size_bytes": 120,
              "truncated_string_columns": [
                "review",
                "processed_review"
              ]
            },
            "display_id": "a186d17d-727a-4b59-a22a-69cdee93c40b",
            "dx_settings": {
              "ALLOW_NOTEABLE_ATTRS": true,
              "COLUMN_SAMPLING_METHOD": "outer",
              "DB_LOCATION": ":memory:",
              "DEV_MODE": false,
              "DISPLAY_MAX_COLUMNS": 100,
              "DISPLAY_MAX_ROWS": 50000,
              "DISPLAY_MODE": "simple",
              "ENABLE_ASSIGNMENT": true,
              "ENABLE_DATALINK": true,
              "FLATTEN_COLUMN_VALUES": true,
              "FLATTEN_INDEX_VALUES": false,
              "GENERATE_DEX_METADATA": false,
              "HTML_TABLE_SCHEMA": false,
              "LOG_LEVEL": 30,
              "MAX_RENDER_SIZE_BYTES": 104857600,
              "MAX_STRING_LENGTH": 250,
              "NUM_PAST_SAMPLES_TRACKED": 3,
              "RANDOM_STATE": 12648430,
              "RESET_INDEX_VALUES": false,
              "ROW_SAMPLING_METHOD": "random",
              "SAMPLING_FACTOR": 0.1,
              "SAMPLING_METHOD": "random",
              "STRINGIFY_COLUMN_VALUES": true,
              "STRINGIFY_INDEX_VALUES": false
            },
            "sample_history": [],
            "sampling_time": "2023-10-19T22:04:38.444498",
            "user_variable_name": null,
            "variable_name": "unk_dataframe_473923d05309424388923e472e08298d"
          },
          "f87415a8-0ffe-48e0-ace3-fc223663c91a": {
            "applied_filters": [],
            "dataframe_info": {
              "default_index_used": true,
              "orig_num_cols": 2,
              "orig_num_rows": 5,
              "orig_size_bytes": 120,
              "truncated_num_cols": 2,
              "truncated_num_rows": 5,
              "truncated_size_bytes": 120,
              "truncated_string_columns": [
                "review",
                "processed_review"
              ]
            },
            "display_id": "f87415a8-0ffe-48e0-ace3-fc223663c91a",
            "dx_settings": {
              "ALLOW_NOTEABLE_ATTRS": true,
              "COLUMN_SAMPLING_METHOD": "outer",
              "DB_LOCATION": ":memory:",
              "DEV_MODE": false,
              "DISPLAY_MAX_COLUMNS": 100,
              "DISPLAY_MAX_ROWS": 50000,
              "DISPLAY_MODE": "simple",
              "ENABLE_ASSIGNMENT": true,
              "ENABLE_DATALINK": true,
              "FLATTEN_COLUMN_VALUES": true,
              "FLATTEN_INDEX_VALUES": false,
              "GENERATE_DEX_METADATA": false,
              "HTML_TABLE_SCHEMA": false,
              "LOG_LEVEL": 30,
              "MAX_RENDER_SIZE_BYTES": 104857600,
              "MAX_STRING_LENGTH": 250,
              "NUM_PAST_SAMPLES_TRACKED": 3,
              "RANDOM_STATE": 12648430,
              "RESET_INDEX_VALUES": false,
              "ROW_SAMPLING_METHOD": "random",
              "SAMPLING_FACTOR": 0.1,
              "SAMPLING_METHOD": "random",
              "STRINGIFY_COLUMN_VALUES": true,
              "STRINGIFY_INDEX_VALUES": false
            },
            "sample_history": [],
            "sampling_time": "2023-10-19T22:02:43.349153",
            "user_variable_name": null,
            "variable_name": "unk_dataframe_16487bfdd9224fda89d30597653f4956"
          }
        },
        "noteable": {
          "cell_type": "code",
          "output_collection_id": "471e4ec9-fe4d-4846-a002-0ea3c3c18002"
        }
      },
      "outputs": [
        {
          "data": {
            "text/html": [
              "<div>\n",
              "<style scoped>\n",
              "    .dataframe tbody tr th:only-of-type {\n",
              "        vertical-align: middle;\n",
              "    }\n",
              "\n",
              "    .dataframe tbody tr th {\n",
              "        vertical-align: top;\n",
              "    }\n",
              "\n",
              "    .dataframe thead th {\n",
              "        text-align: right;\n",
              "    }\n",
              "</style>\n",
              "<table border=\"1\" class=\"dataframe\">\n",
              "  <thead>\n",
              "    <tr style=\"text-align: right;\">\n",
              "      <th></th>\n",
              "      <th>review</th>\n",
              "      <th>processed_review</th>\n",
              "    </tr>\n",
              "  </thead>\n",
              "  <tbody>\n",
              "    <tr>\n",
              "      <th>0</th>\n",
              "      <td>plot : two teen couples go to a church party ,...</td>\n",
              "      <td>plot two teen couples go church party drink dr...</td>\n",
              "    </tr>\n",
              "    <tr>\n",
              "      <th>1</th>\n",
              "      <td>the happy bastard ' s quick movie review damn ...</td>\n",
              "      <td>happy bastard quick movie review damn y2k bug ...</td>\n",
              "    </tr>\n",
              "    <tr>\n",
              "      <th>2</th>\n",
              "      <td>it is movies like these that make a jaded movi...</td>\n",
              "      <td>movies like make jaded movie viewer thankful i...</td>\n",
              "    </tr>\n",
              "    <tr>\n",
              "      <th>3</th>\n",
              "      <td>\" quest for camelot \" is warner bros . ' first...</td>\n",
              "      <td>quest camelot warner bros first feature length...</td>\n",
              "    </tr>\n",
              "    <tr>\n",
              "      <th>4</th>\n",
              "      <td>synopsis : a mentally unstable man undergoing ...</td>\n",
              "      <td>synopsis mentally unstable man undergoing psyc...</td>\n",
              "    </tr>\n",
              "  </tbody>\n",
              "</table>\n",
              "</div>"
            ],
            "text/plain": [
              "                                              review  \\\n",
              "0  plot : two teen couples go to a church party ,...   \n",
              "1  the happy bastard ' s quick movie review damn ...   \n",
              "2  it is movies like these that make a jaded movi...   \n",
              "3  \" quest for camelot \" is warner bros . ' first...   \n",
              "4  synopsis : a mentally unstable man undergoing ...   \n",
              "\n",
              "                                    processed_review  \n",
              "0  plot two teen couples go church party drink dr...  \n",
              "1  happy bastard quick movie review damn y2k bug ...  \n",
              "2  movies like make jaded movie viewer thankful i...  \n",
              "3  quest camelot warner bros first feature length...  \n",
              "4  synopsis mentally unstable man undergoing psyc...  "
            ]
          },
          "execution_count": 56,
          "metadata": {},
          "output_type": "execute_result"
        }
      ],
      "source": [
        "import string\n",
        "\n",
        "# Function to preprocess the text\n",
        "def preprocess_text(text):\n",
        "    # Convert to lowercase\n",
        "    text = text.lower()\n",
        "\n",
        "    # Remove punctuation\n",
        "    text = ''.join([char for char in text if char not in string.punctuation])\n",
        "\n",
        "    # Remove stopwords\n",
        "    stop_words = set(stopwords.words('english'))\n",
        "    text = ' '.join([word for word in text.split() if word not in stop_words])\n",
        "\n",
        "    return text\n",
        "\n",
        "# Apply preprocessing to each review\n",
        "data['processed_review'] = data['review'].apply(preprocess_text)\n",
        "data[['review', 'processed_review']].head()"
      ]
    },
    {
      "cell_type": "code",
      "execution_count": 57,
      "id": "241389ff-3854-47ac-9859-156418b82833",
      "metadata": {
        "ExecuteTime": {
          "end_time": "2023-10-19T22:18:10.488416+00:00",
          "start_time": "2023-10-19T22:18:10.165143+00:00"
        },
        "noteable": {
          "cell_type": "code",
          "output_collection_id": "d2c425d0-405b-41dd-abbf-b2f58fcbd671"
        }
      },
      "outputs": [
        {
          "data": {
            "image/png": "[encoded data removed]",
            "text/plain": [
              "<Figure size 800x600 with 1 Axes>"
            ]
          },
          "metadata": {},
          "output_type": "display_data"
        }
      ],
      "source": [
        "# Visualizing the distribution of sentiments\n",
        "plt.figure(figsize=(8, 6))\n",
        "sns.countplot(data=data, x='sentiment')\n",
        "plt.title('Distribution of Sentiments')\n",
        "plt.show()"
      ]
    },
    {
      "cell_type": "code",
      "execution_count": 58,
      "id": "92719620-b993-43da-bfba-11a2084bda04",
      "metadata": {
        "ExecuteTime": {
          "end_time": "2023-10-19T22:18:11.201615+00:00",
          "start_time": "2023-10-19T22:18:10.640375+00:00"
        },
        "noteable": {
          "cell_type": "code",
          "output_collection_id": "2bbbce67-af69-49c4-9370-77edb3864983"
        }
      },
      "outputs": [
        {
          "data": {
            "text/plain": [
              "((1600, 5000), (400, 5000), (1600,), (400,), (1600,), (400,))"
            ]
          },
          "execution_count": 58,
          "metadata": {},
          "output_type": "execute_result"
        }
      ],
      "source": [
        "from sklearn.feature_extraction.text import TfidfVectorizer\n",
        "from sklearn.model_selection import train_test_split\n",
        "\n",
        "# Vectorizing the text data\n",
        "vectorizer = TfidfVectorizer(max_features=5000)\n",
        "review = data['review']\n",
        "X = vectorizer.fit_transform(data['processed_review'])\n",
        "y = data['sentiment'].map({'pos': 1, 'neg': 0})\n",
        "\n",
        "y = data['sentiment'].map({'pos': 1, 'neg': 0})\n",
        "\n",
        "# Splitting the data into training and testing sets\n",
        "# X_train, X_test, y_train, y_test, review_train, review_test = train_test_split(X, y, review, test_size=0.2, random_state=42)\n",
        "X_train, X_test, y_train, y_test, review_train, review_test = train_test_split(X, y, review, test_size=0.2)\n",
        "\n",
        "X_train.shape, X_test.shape, y_train.shape, y_test.shape, review_train.shape, review_test.shape"
      ]
    },
    {
      "cell_type": "code",
      "execution_count": 59,
      "id": "375fc75f-ed37-4f56-84e7-76bff69ebb30",
      "metadata": {
        "ExecuteTime": {
          "end_time": "2023-10-19T22:18:11.404726+00:00",
          "start_time": "2023-10-19T22:18:11.206937+00:00"
        },
        "noteable": {
          "cell_type": "code",
          "output_collection_id": "e394a69b-b412-4f17-96ae-f7f328df0863"
        }
      },
      "outputs": [
        {
          "data": {
            "text/plain": [
              "0.8375"
            ]
          },
          "execution_count": 59,
          "metadata": {},
          "output_type": "execute_result"
        }
      ],
      "source": [
        "# Correctly mapping the sentiments to numerical values\n",
        "from sklearn.linear_model import LogisticRegression\n",
        "\n",
        "# Correctly mapping the sentiments to numerical values\n",
        "from sklearn.metrics import accuracy_score\n",
        "\n",
        "# Building the logistic regression model\n",
        "model = LogisticRegression(max_iter=1000, random_state=42)\n",
        "model.fit(X_train, y_train)\n",
        "\n",
        "# Predicting the sentiments for the testing data\n",
        "y_pred = model.predict(X_test)\n",
        "\n",
        "# Computing the accuracy score\n",
        "accuracy = accuracy_score(y_test, y_pred)\n",
        "accuracy"
      ]
    },
    {
      "cell_type": "code",
      "execution_count": 60,
      "id": "de03b7fa-930e-4eed-8086-03737c4c27e4",
      "metadata": {
        "ExecuteTime": {
          "end_time": "2023-10-19T22:19:53.692118+00:00",
          "start_time": "2023-10-19T22:19:53.339032+00:00"
        },
        "noteable": {
          "cell_type": "code",
          "output_collection_id": "ddf7f06d-a27d-4317-b82c-403a150b6888"
        }
      },
      "outputs": [
        {
          "name": "stdout",
          "output_type": "stream",
          "text": [
            "[1 0 1 1 0 0 0 0 1 1 0 1 0 0 1 0 1 0 0 1 1 1 0 0 1 0 0 1 0 1 1 1 1 1 1 0 0\n",
            " 0 1 0 1 1 1 1 1 0 1 1 1 1 0 0 0 0 0 0 0 1 0 0 1 0 1 0 0 0 1 0 0 0 0 0 0 1\n",
            " 1 0 1 1 0 0 0 0 1 0 1 1 0 0 1 1 0 0 0 1 0 1 1 1 0 1 0 0 0 0 0 0 0 1 1 1 0\n",
            " 1 1 1 1 1 1 1 1 1 0 0 1 1 1 1 1 0 1 1 1 1 0 1 1 1 0 1 1 0 0 0 0 0 0 0 1 0\n",
            " 1 0 0 0 0 1 0 1 0 0 0 0 0 0 0 1 0 1 0 0 0 0 0 0 0 0 0 1 0 0 0 0 1 0 1 1 0\n",
            " 1 1 1 0 1 1 0 0 1 0 0 1 1 0 1 0 0 0 0 0 1 0 1 0 1 0 1 0 1 0 0 0 0 0 1 1 0\n",
            " 1 1 0 1 1 1 1 0 1 1 1 1 1 0 1 0 1 1 1 1 1 1 1 1 1 1 0 0 0 1 1 0 1 1 1 1 1\n",
            " 0 0 1 1 1 0 1 1 1 1 0 0 0 0 1 0 1 1 0 1 0 0 0 0 1 1 1 0 1 0 0 1 1 1 0 0 0\n",
            " 1 1 0 1 1 0 1 1 1 0 1 0 1 1 1 1 0 1 0 0 1 1 0 0 0 1 0 0 1 0 1 1 1 0 1 1 0\n",
            " 1 0 1 0 0 0 0 0 0 0 0 1 0 1 0 1 1 1 1 0 0 1 1 0 1 0 0 1 0 0 0 1 0 1 1 0 1\n",
            " 0 1 0 0 1 0 1 0 1 1 1 0 1 0 1 1 1 0 1 1 1 0 0 1 1 0 1 0 1 1]\n"
          ]
        },
        {
          "data": {
            "text/plain": [
              "<sklearn.metrics._plot.confusion_matrix.ConfusionMatrixDisplay at 0x1f33dd60b50>"
            ]
          },
          "execution_count": 60,
          "metadata": {},
          "output_type": "execute_result"
        },
        {
          "data": {
            "image/png": "[encoded data removed]",
            "text/plain": [
              "<Figure size 640x480 with 2 Axes>"
            ]
          },
          "metadata": {},
          "output_type": "display_data"
        }
      ],
      "source": [
        "from sklearn.metrics import confusion_matrix, ConfusionMatrixDisplay\n",
        "\n",
        "print(y_pred)\n",
        "\n",
        "# Computing the confusion matrix\n",
        "cm = confusion_matrix(y_test, y_pred, labels=[1, 0])\n",
        "\n",
        "# Displaying the confusion matrix with custom labels\n",
        "labels = ['pos', 'neg']\n",
        "cmd = ConfusionMatrixDisplay(cm, display_labels=labels)\n",
        "cmd.plot(cmap='Blues')"
      ]
    },
    {
      "cell_type": "code",
      "execution_count": 61,
      "id": "b95d4ecc-77c1-42cd-9b7e-4cca328fcbbb",
      "metadata": {
        "ExecuteTime": {
          "end_time": "2023-10-19T22:20:26.782246+00:00",
          "start_time": "2023-10-19T22:20:26.570660+00:00"
        },
        "datalink": {
          "67e60c9d-c4d2-40b2-82c3-ea79557b0999": {
            "applied_filters": [],
            "dataframe_info": {
              "default_index_used": true,
              "orig_num_cols": 2,
              "orig_num_rows": 2,
              "orig_size_bytes": 48,
              "truncated_num_cols": 2,
              "truncated_num_rows": 2,
              "truncated_size_bytes": 48,
              "truncated_string_columns": []
            },
            "display_id": "67e60c9d-c4d2-40b2-82c3-ea79557b0999",
            "dx_settings": {
              "ALLOW_NOTEABLE_ATTRS": true,
              "COLUMN_SAMPLING_METHOD": "outer",
              "DB_LOCATION": ":memory:",
              "DEV_MODE": false,
              "DISPLAY_MAX_COLUMNS": 100,
              "DISPLAY_MAX_ROWS": 50000,
              "DISPLAY_MODE": "simple",
              "ENABLE_ASSIGNMENT": true,
              "ENABLE_DATALINK": true,
              "FLATTEN_COLUMN_VALUES": true,
              "FLATTEN_INDEX_VALUES": false,
              "GENERATE_DEX_METADATA": false,
              "HTML_TABLE_SCHEMA": false,
              "LOG_LEVEL": 30,
              "MAX_RENDER_SIZE_BYTES": 104857600,
              "MAX_STRING_LENGTH": 250,
              "NUM_PAST_SAMPLES_TRACKED": 3,
              "RANDOM_STATE": 12648430,
              "RESET_INDEX_VALUES": false,
              "ROW_SAMPLING_METHOD": "random",
              "SAMPLING_FACTOR": 0.1,
              "SAMPLING_METHOD": "random",
              "STRINGIFY_COLUMN_VALUES": true,
              "STRINGIFY_INDEX_VALUES": false
            },
            "sample_history": [],
            "sampling_time": "2023-10-19T22:20:26.624224",
            "user_variable_name": "results",
            "variable_name": "results"
          }
        },
        "noteable": {
          "cell_type": "code",
          "output_collection_id": "19b498d1-f66e-41a1-850a-4d6147fcc723"
        }
      },
      "outputs": [
        {
          "data": {
            "text/html": [
              "<div>\n",
              "<style scoped>\n",
              "    .dataframe tbody tr th:only-of-type {\n",
              "        vertical-align: middle;\n",
              "    }\n",
              "\n",
              "    .dataframe tbody tr th {\n",
              "        vertical-align: top;\n",
              "    }\n",
              "\n",
              "    .dataframe thead th {\n",
              "        text-align: right;\n",
              "    }\n",
              "</style>\n",
              "<table border=\"1\" class=\"dataframe\">\n",
              "  <thead>\n",
              "    <tr style=\"text-align: right;\">\n",
              "      <th></th>\n",
              "      <th>Review</th>\n",
              "      <th>Actual Sentiment</th>\n",
              "      <th>Predicted Sentiment</th>\n",
              "    </tr>\n",
              "  </thead>\n",
              "  <tbody>\n",
              "    <tr>\n",
              "      <th>0</th>\n",
              "      <td>titantic , writer and director james cameron '...</td>\n",
              "      <td>pos</td>\n",
              "      <td>pos</td>\n",
              "    </tr>\n",
              "    <tr>\n",
              "      <th>1</th>\n",
              "      <td>' lake placid ' is definately not your typical...</td>\n",
              "      <td>pos</td>\n",
              "      <td>pos</td>\n",
              "    </tr>\n",
              "    <tr>\n",
              "      <th>2</th>\n",
              "      <td>the sequel to the fugitive ( 1993 ) , u . s ma...</td>\n",
              "      <td>neg</td>\n",
              "      <td>neg</td>\n",
              "    </tr>\n",
              "    <tr>\n",
              "      <th>3</th>\n",
              "      <td>well i ' ll be damned . . . the canadians can ...</td>\n",
              "      <td>pos</td>\n",
              "      <td>pos</td>\n",
              "    </tr>\n",
              "    <tr>\n",
              "      <th>4</th>\n",
              "      <td>this is one of the most funny and entertaining...</td>\n",
              "      <td>pos</td>\n",
              "      <td>pos</td>\n",
              "    </tr>\n",
              "  </tbody>\n",
              "</table>\n",
              "</div>"
            ],
            "text/plain": [
              "                                              Review Actual Sentiment  \\\n",
              "0  titantic , writer and director james cameron '...              pos   \n",
              "1  ' lake placid ' is definately not your typical...              pos   \n",
              "2  the sequel to the fugitive ( 1993 ) , u . s ma...              neg   \n",
              "3  well i ' ll be damned . . . the canadians can ...              pos   \n",
              "4  this is one of the most funny and entertaining...              pos   \n",
              "\n",
              "  Predicted Sentiment  \n",
              "0                 pos  \n",
              "1                 pos  \n",
              "2                 neg  \n",
              "3                 pos  \n",
              "4                 pos  "
            ]
          },
          "execution_count": 61,
          "metadata": {},
          "output_type": "execute_result"
        }
      ],
      "source": [
        "import numpy as np\n",
        "\n",
        "# Randomly selecting two samples from X_test\n",
        "random_indices = np.random.choice(X_test.shape[0], 5, replace=False)\n",
        "sample_review_test = review_test.iloc[random_indices].values\n",
        "sample_X_test = X_test[random_indices]\n",
        "sample_y_test = y_test.iloc[random_indices].values\n",
        "\n",
        "# Making predictions using the trained model\n",
        "predicted_sentiments = model.predict(sample_X_test)\n",
        "\n",
        "# Creating a DataFrame to display the results\n",
        "results = pd.DataFrame({'Review': sample_review_test,\n",
        "                        'Actual Sentiment': sample_y_test,\n",
        "                       'Predicted Sentiment': predicted_sentiments})\n",
        "\n",
        "results['Actual Sentiment'] = results['Actual Sentiment'].map({1: 'pos', 0: 'neg'})\n",
        "results['Predicted Sentiment'] = results['Predicted Sentiment'].map({1: 'pos', 0: 'neg'})\n",
        "results"
      ]
    }
  ],
  "metadata": {
    "kernel_info": {
      "name": "python3"
    },
    "kernelspec": {
      "display_name": "Python 3.9",
      "identifier": "legacy",
      "language": "python",
      "language_version": "3.9",
      "name": "python3"
    },
    "language_info": {
      "codemirror_mode": {
        "name": "ipython",
        "version": 3
      },
      "file_extension": ".py",
      "mimetype": "text/x-python",
      "name": "python",
      "nbconvert_exporter": "python",
      "pygments_lexer": "ipython3",
      "version": "3.10.7"
    },
    "noteable-chatgpt": {
      "create_notebook": {
        "openai_conversation_id": "c9dcfc08-2246-5ac5-b58e-cf7d78f10ca9",
        "openai_ephemeral_user_id": "5dc40e00-d21e-5855-8b15-e59c0de5464f",
        "openai_subdivision1_iso_code": "US-AZ"
      }
    },
    "selected_hardware_size": "small"
  },
  "nbformat": 4,
  "nbformat_minor": 5
}
